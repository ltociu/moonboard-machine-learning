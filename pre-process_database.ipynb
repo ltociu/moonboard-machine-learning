{
 "cells": [
  {
   "cell_type": "code",
   "execution_count": 10,
   "metadata": {},
   "outputs": [],
   "source": [
    "import sqlite3\n",
    "import numpy as np\n",
    "import pandas as pd\n",
    "from tqdm import tqdm\n",
    "import matplotlib.pyplot as plt\n",
    "from draw_problem import *\n",
    "\n",
    "grade_conversion = {\n",
    "    '0': '0', \n",
    "    '6B': 'V4', \n",
    "    '6B+': 'V4', \n",
    "    '6C': 'V5', \n",
    "    '6C+': 'V5', \n",
    "    '7A': 'V6', \n",
    "    '7A+': 'V7', \n",
    "    '7B': 'V8', \n",
    "    '7B+': 'V8', \n",
    "    '7C': 'V9', \n",
    "    '7C+': 'V10', \n",
    "    '8A' : 'V11', \n",
    "    '8A+': 'V12', \n",
    "    '8B' : 'V13', \n",
    "    '8B+': 'V14'\n",
    "}\n",
    "\n",
    "\n",
    "grade_to_ordinal_dummy_6_categories = {\n",
    "    'V4':[0,0,0,0,0],\n",
    "    'V5':[1,0,0,0,0],\n",
    "    'V6':[1,1,0,0,0],\n",
    "    'V7':[1,1,1,0,0],\n",
    "    'V8':[1,1,1,1,0],\n",
    "    'V9+':[1,1,1,1,1] \n",
    "}\n",
    "\n",
    "grade_to_ordinal_dummy_11_categories = {\n",
    "    'V4':[0,0,0,0,0,0,0,0,0,0],\n",
    "    'V5':[1,0,0,0,0,0,0,0,0,0],\n",
    "    'V6':[1,1,0,0,0,0,0,0,0,0],\n",
    "    'V7':[1,1,1,0,0,0,0,0,0,0],\n",
    "    'V8':[1,1,1,1,0,0,0,0,0,0],\n",
    "    'V9':[1,1,1,1,1,0,0,0,0,0],\n",
    "    'V10':[1,1,1,1,1,1,0,0,0,0],\n",
    "    'V11':[1,1,1,1,1,1,1,0,0,0],\n",
    "    'V12':[1,1,1,1,1,1,1,1,0,0],\n",
    "    'V13':[1,1,1,1,1,1,1,1,1,0],\n",
    "    'V14':[1,1,1,1,1,1,1,1,1,1]\n",
    "}\n",
    "\n",
    "# For plotting histogram\n",
    "grade_to_num = {\n",
    "    'V4':1,\n",
    "    'V5':2,\n",
    "    'V6':3,\n",
    "    'V7':4,\n",
    "    'V8':5,\n",
    "    'V9':6,\n",
    "    'V10':7,\n",
    "    'V11':8,\n",
    "    'V12':9,\n",
    "    'V13':10,\n",
    "    'V14':11\n",
    "}"
   ]
  },
  {
   "cell_type": "code",
   "execution_count": 11,
   "metadata": {},
   "outputs": [],
   "source": [
    "# This snippet extracts all problem moves and grades from database\n",
    "\n",
    "db = 'moon_problems.db'\n",
    "conn = sqlite3.connect(db)\n",
    "c = conn.cursor()\n",
    "c.execute(\"SELECT pm.Problem, pm.Position, p.Grade FROM problemMoves_2016 pm INNER JOIN problems p ON pm.Problem = p.Id\")\n",
    "problem_grade = {}\n",
    "problem_moves = {}\n",
    "problem_lengths = []   # for histogramming\n",
    "problem_grades = []    # for histogramming\n",
    "id_current = 0\n",
    "id_previous = 0\n",
    "holds = []\n",
    "for entry in c.fetchall():\n",
    "    id_previous = id_current\n",
    "    id_current = entry[0]\n",
    "    if id_previous != id_current:\n",
    "        problem_moves[id_previous] = holds\n",
    "        holds = []\n",
    "        problem_grade[id_current] = entry[2]\n",
    "    holds.append(entry[1])\n",
    "problem_moves[id_current] = holds\n",
    "\n",
    "del problem_moves[0]   #  the previous loop added an empty list as moves for problem ID 0, so I am removing it "
   ]
  },
  {
   "cell_type": "code",
   "execution_count": 12,
   "metadata": {},
   "outputs": [
    {
     "name": "stderr",
     "output_type": "stream",
     "text": [
      "100%|██████████| 25877/25877 [00:00<00:00, 29102.64it/s]\n",
      "100%|██████████| 25877/25877 [00:00<00:00, 37116.48it/s]\n",
      "100%|██████████| 25877/25877 [00:00<00:00, 57761.23it/s]\n",
      "100%|██████████| 25877/25877 [00:00<00:00, 59022.21it/s]\n",
      "100%|██████████| 25877/25877 [00:00<00:00, 67013.58it/s]\n",
      "100%|██████████| 25877/25877 [00:00<00:00, 98019.05it/s]\n",
      "100%|██████████| 25877/25877 [00:00<00:00, 119673.01it/s]\n",
      "100%|██████████| 25877/25877 [00:00<00:00, 134751.67it/s]\n",
      "100%|██████████| 25877/25877 [00:00<00:00, 140641.14it/s]\n",
      "100%|██████████| 25877/25877 [00:00<00:00, 140636.95it/s]\n",
      "100%|██████████| 25877/25877 [00:00<00:00, 134601.44it/s]\n"
     ]
    }
   ],
   "source": [
    "# This snippet creates .npy train and test files (70%-30%).\n",
    "# The train and test files are forced to have equal compositions of the various grades (ie be representative of whole set)\n",
    "\n",
    "problems_train = []\n",
    "problems_test = []\n",
    "grades_train = []\n",
    "grades_test = []\n",
    "problems_full = []\n",
    "problems_by_grade = {}\n",
    "\n",
    "\n",
    "for grade in grade_to_ordinal_dummy_11_categories:\n",
    "    problems_by_grade[grade] = []\n",
    "    for problem in tqdm(problem_moves):\n",
    "        problems_full.append(draw_problem_matrix(problem_moves[problem]))\n",
    "        problem_lengths.append(len(problem_moves[problem]))\n",
    "        problem_grades.append(grade_to_num[grade_conversion[problem_grade[problem]]])\n",
    "        if len(problem_moves[problem]) < 13:\n",
    "            if grade_conversion[problem_grade[problem]] == grade :\n",
    "                problems_by_grade[grade].append(draw_problem_submatrices(problem_moves[problem]))\n",
    "\n",
    "for grade in grade_to_ordinal_dummy_11_categories:\n",
    "    train_index = int(round(0.7*len(problems_by_grade[grade])))\n",
    "    for i in range(train_index):\n",
    "        problems_train.append(problems_by_grade[grade][i])\n",
    "        grades_train.append(grade)\n",
    "    for i in range(train_index, len(problems_by_grade[grade])):\n",
    "        problems_test.append(problems_by_grade[grade][i])\n",
    "        grades_test.append(grade)\n",
    "    \n",
    "grades_train = np.array([grade_to_ordinal_dummy_11_categories[a] for a in grades_train])\n",
    "grades_test = np.array([grade_to_ordinal_dummy_11_categories[a] for a in grades_test])\n",
    "\n",
    "problems_train = np.array(problems_train)\n",
    "problems_test = np.array(problems_test)\n",
    "\n",
    "np.save('problems_train.npy', problems_train)\n",
    "np.save('problems_test.npy', problems_test)\n",
    "np.save('grades_train.npy', grades_train)\n",
    "np.save('grades_test.npy', grades_test)"
   ]
  },
  {
   "cell_type": "code",
   "execution_count": 13,
   "metadata": {},
   "outputs": [
    {
     "data": {
      "text/plain": [
       "(array([2.54320e+04, 1.25246e+05, 9.37310e+04, 3.31760e+04, 6.98500e+03,\n",
       "        5.50000e+01, 0.00000e+00, 0.00000e+00, 0.00000e+00, 2.20000e+01]),\n",
       " array([ 3. ,  5.3,  7.6,  9.9, 12.2, 14.5, 16.8, 19.1, 21.4, 23.7, 26. ]),\n",
       " <a list of 10 Patch objects>)"
      ]
     },
     "execution_count": 13,
     "metadata": {},
     "output_type": "execute_result"
    },
    {
     "data": {
      "image/png": "[encoded data removed]",
      "text/plain": [
       "<Figure size 432x288 with 1 Axes>"
      ]
     },
     "metadata": {
      "needs_background": "light"
     },
     "output_type": "display_data"
    }
   ],
   "source": [
    "# I will now plot some data exploration plots, such as distribution of number of holds and grades\n",
    "\n",
    "# Plot histogram of problem lengths\n",
    "plt.hist(problem_lengths)"
   ]
  },
  {
   "cell_type": "code",
   "execution_count": 14,
   "metadata": {},
   "outputs": [
    {
     "data": {
      "text/plain": [
       "(array([92246., 70906., 39193., 30393., 30338., 13343.,  4774.,  2178.,\n",
       "          649.,   627.]),\n",
       " array([ 1.,  2.,  3.,  4.,  5.,  6.,  7.,  8.,  9., 10., 11.]),\n",
       " <a list of 10 Patch objects>)"
      ]
     },
     "execution_count": 14,
     "metadata": {},
     "output_type": "execute_result"
    },
    {
     "data": {
      "image/png": "[encoded data removed]",
      "text/plain": [
       "<Figure size 432x288 with 1 Axes>"
      ]
     },
     "metadata": {
      "needs_background": "light"
     },
     "output_type": "display_data"
    }
   ],
   "source": [
    "# Plot histogram of grades\n",
    "plt.hist(problem_grades)"
   ]
  },
  {
   "cell_type": "code",
   "execution_count": 15,
   "metadata": {},
   "outputs": [
    {
     "data": {
      "text/plain": [
       "<matplotlib.image.AxesImage at 0x1d49eae8520>"
      ]
     },
     "execution_count": 15,
     "metadata": {},
     "output_type": "execute_result"
    },
    {
     "data": {
      "image/png": "[encoded data removed]",
      "text/plain": [
       "<Figure size 432x288 with 1 Axes>"
      ]
     },
     "metadata": {
      "needs_background": "light"
     },
     "output_type": "display_data"
    }
   ],
   "source": [
    "# Samples of the 12 submatrices of size 13x13 that constitute the input to the network\n",
    "plt.imshow(problems_train[0][0], cmap='inferno')"
   ]
  },
  {
   "cell_type": "code",
   "execution_count": 16,
   "metadata": {},
   "outputs": [
    {
     "data": {
      "text/plain": [
       "<matplotlib.image.AxesImage at 0x1d49eb878e0>"
      ]
     },
     "execution_count": 16,
     "metadata": {},
     "output_type": "execute_result"
    },
    {
     "data": {
      "image/png": "[encoded data removed]",
      "text/plain": [
       "<Figure size 432x288 with 1 Axes>"
      ]
     },
     "metadata": {
      "needs_background": "light"
     },
     "output_type": "display_data"
    }
   ],
   "source": [
    "plt.imshow(problems_train[0][1], cmap='inferno')"
   ]
  },
  {
   "cell_type": "code",
   "execution_count": null,
   "metadata": {},
   "outputs": [],
   "source": []
  }
 ],
 "metadata": {
  "kernelspec": {
   "display_name": "Python 3",
   "language": "python",
   "name": "python3"
  },
  "language_info": {
   "codemirror_mode": {
    "name": "ipython",
    "version": 3
   },
   "file_extension": ".py",
   "mimetype": "text/x-python",
   "name": "python",
   "nbconvert_exporter": "python",
   "pygments_lexer": "ipython3",
   "version": "3.8.3"
  }
 },
 "nbformat": 4,
 "nbformat_minor": 2
}
