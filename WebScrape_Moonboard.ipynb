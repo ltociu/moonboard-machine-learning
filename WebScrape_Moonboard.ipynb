{
 "cells": [
  {
   "cell_type": "code",
   "execution_count": 23,
   "metadata": {},
   "outputs": [],
   "source": [
    "from selenium import webdriver\n",
    "from selenium.webdriver.support.ui import Select\n",
    "from selenium.webdriver.common.keys import Keys\n",
    "from selenium.webdriver.common.by import By\n",
    "from selenium.webdriver.support.ui import WebDriverWait\n",
    "from selenium.webdriver.support import expected_conditions as EC \n",
    "import json \n",
    "import time\n",
    "\n",
    "\n",
    "driver = webdriver.Chrome(executable_path='/Users/lauratociu/Documents/chromedriver')\n",
    "driver.get('https://www.moonboard.com/Account/Login')\n",
    "\n",
    "# Is anyone tries to run this script, they must create an account with Moonboard.\n",
    "# The username and password have to be inputted manually here because it has anti-robot checks at login. \n",
    "# All the data can only be accessed when logged in.\n",
    "# After logging in, allow window to run the rest of the code in the background. You should not get logged out.\n",
    "\n",
    "# Note: In next paragraphs we will find new Moonboard problems added since we last updated the database."
   ]
  },
  {
   "cell_type": "code",
   "execution_count": 21,
   "metadata": {},
   "outputs": [
    {
     "name": "stdout",
     "output_type": "stream",
     "text": [
      "['7498cda6-1583-4263-92a3-5c0531b0afd0', 'd3194f62-9def-4bb8-850d-97ea40ed8668', '0e537bf6-34c9-4bfa-b9c7-70c79f08d9be', '251d680f-9a88-4eb2-a9fd-2ec3dd113980', 'dad7a9e1-5213-41df-a11d-0a4f9427a862', '6FD766B9-A6B9-4C53-B7F3-21751C965E0F', '39bee971-2448-4248-8122-7ec11fd8d240', 'B1F210D7-978B-476D-812F-778D4BCB3268', 'd9ea7030-3773-4b07-9c0d-018461755fdd', '805c8aff-c33c-471a-b150-69c59223e1f4']\n"
     ]
    }
   ],
   "source": [
    "# Here we get the lost of active users. \n",
    "driver.get('https://www.moonboard.com/Account/GetActiveMoonBoardUsers')\n",
    "\n",
    "pre = driver.find_element_by_tag_name(\"pre\").text\n",
    "data = json.loads(pre)\n",
    "\n",
    "activeuser_ids = []\n",
    "for item in data:\n",
    "    activeuser_ids.append(item['UserId'])\n",
    "    \n",
    "print(activeuser_ids[:10])"
   ]
  },
  {
   "cell_type": "code",
   "execution_count": 26,
   "metadata": {},
   "outputs": [],
   "source": [
    "def find_new_problems(user_id):\n",
    "    driver.get('https://www.moonboard.com/Account/Profile/' + user_id)\n",
    "    option_el = driver.find_element_by_xpath(\"//option[contains(text(),'%s')]\" %'MoonBoard 2016')\n",
    "    option_el.click()\n",
    "\n",
    "    time.sleep(2)  # To make sure the right Moonboard 2016 setup is selected from dropdown menu\n",
    "\n",
    "    all_links = driver.find_elements_by_css_selector('a')\n",
    "    \n",
    "    # Since the user has to click to go to the Problems climbed, I am assuming that the links to Problems that appear on\n",
    "    # this page are all from the category of Problems Created\n",
    "    problem = []\n",
    "    for link in all_links:\n",
    "        if 'Problems/View' in link:\n",
    "            problem.append(link)\n",
    "        \n",
    "# We will loop through the active users and see if anyone created a new problem on today's date.\n",
    "\n",
    "new_problems = []\n",
    "for user_id in activeuser_ids:\n",
    "    new_problems += find_new_problems(user_id)\n",
    "\n",
    "\n",
    "# I am not going to run this snippet since I am sure it would be a lot of computing and web scraping. Measures will \n",
    "# have to be taken to avoin getting your IP banned, but that is beyond the scope of this proof of principle script."
   ]
  },
  {
   "cell_type": "code",
   "execution_count": null,
   "metadata": {},
   "outputs": [],
   "source": [
    "def get_problem_name_id(problem_link):\n",
    "    # This function extracts name and ID from the link in order to check if it exists in our database\n",
    "    info = problem_link.split('/')\n",
    "    name = info[-1]\n",
    "    idd = info[-2]\n",
    "    return [idd, name]\n",
    "\n",
    "# Now we can load the existing databaase of Moonboard climb (see pre-process_database.ipynb), and for each new problem\n",
    "# in new_problems, we can check if it is already in our database. If not, we add it.\n",
    "\n"
   ]
  }
 ],
 "metadata": {
  "kernelspec": {
   "display_name": "Python 3",
   "language": "python",
   "name": "python3"
  },
  "language_info": {
   "codemirror_mode": {
    "name": "ipython",
    "version": 3
   },
   "file_extension": ".py",
   "mimetype": "text/x-python",
   "name": "python",
   "nbconvert_exporter": "python",
   "pygments_lexer": "ipython3",
   "version": "3.7.3"
  }
 },
 "nbformat": 4,
 "nbformat_minor": 2
}
